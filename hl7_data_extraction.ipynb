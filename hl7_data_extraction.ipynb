{
  "nbformat": 4,
  "nbformat_minor": 0,
  "metadata": {
    "colab": {
      "name": "hl7 data extraction.ipynb",
      "provenance": [],
      "collapsed_sections": [],
      "mount_file_id": "1TZReo1setL7GaiTUQ4OV9vkzyRRGdLTD",
      "authorship_tag": "ABX9TyNOZrZ68mce7GE1StGbk3tH",
      "include_colab_link": true
    },
    "kernelspec": {
      "name": "python3",
      "display_name": "Python 3"
    },
    "language_info": {
      "name": "python"
    }
  },
  "cells": [
    {
      "cell_type": "markdown",
      "metadata": {
        "id": "view-in-github",
        "colab_type": "text"
      },
      "source": [
        "<a href=\"https://colab.research.google.com/github/krishna408/Deep_Learning/blob/master/hl7_data_extraction.ipynb\" target=\"_parent\"><img src=\"https://colab.research.google.com/assets/colab-badge.svg\" alt=\"Open In Colab\"/></a>"
      ]
    },
    {
      "cell_type": "code",
      "metadata": {
        "id": "DNJt0geREOKM"
      },
      "source": [
        "#pip install hl7apy"
      ],
      "execution_count": 1,
      "outputs": []
    },
    {
      "cell_type": "code",
      "metadata": {
        "id": "8fhAX_LHFqgw",
        "colab": {
          "base_uri": "https://localhost:8080/"
        },
        "outputId": "7c284f99-53f7-455e-9d2e-5f05d1a4aa10"
      },
      "source": [
        "pip install -U hl7"
      ],
      "execution_count": null,
      "outputs": [
        {
          "output_type": "stream",
          "name": "stdout",
          "text": [
            "Collecting hl7\n",
            "  Downloading hl7-0.4.2-py2.py3-none-any.whl (24 kB)\n",
            "Installing collected packages: hl7\n",
            "Successfully installed hl7-0.4.2\n"
          ]
        }
      ]
    },
    {
      "cell_type": "code",
      "metadata": {
        "id": "5exKOWmcVQnC"
      },
      "source": [
        ""
      ],
      "execution_count": null,
      "outputs": []
    },
    {
      "cell_type": "code",
      "metadata": {
        "id": "k4b1uZjLBBgy"
      },
      "source": [
        "message = 'MSH|^~\\&|GHH LAB|ELAB-3|GHH OE|BLDG4|200202150930||ORU^R01|CNTRL-3456|P|2.4\\r'\n",
        "message += 'PID|||555-44-4444||EVERYWOMAN^EVE^E^^^^L|JONES|196203520|F|||153 FERNWOOD DR.^^STATESVILLE^OH^35292||(206)3345232|(206)752-121||||AC555444444||67-A4335^OH^20030520\\r'\n",
        "message += 'OBR|1|845439^GHH OE|1045813^GHH LAB|1554-5^GLUCOSE|||200202150730||||||||555-55-5555^PRIMARY^PATRICIA P^^^^MD^^LEVEL SEVEN HEALTHCARE, INC.|||||||||F||||||444-44-4444^HIPPOCRATES^HOWARD H^^^^MD\\r'\n",
        "message += 'OBX|1|SN|1554-5^GLUCOSE^POST 12H CFST:MCNC:PT:SER/PLAS:QN||^182|mg/dl|70_105|H|||F\\r'"
      ],
      "execution_count": null,
      "outputs": []
    },
    {
      "cell_type": "code",
      "metadata": {
        "colab": {
          "base_uri": "https://localhost:8080/"
        },
        "id": "0mpFuD-Uh3TB",
        "outputId": "24277d4d-2fe1-4570-9c8d-cc5252a03102"
      },
      "source": [
        "s3=\"wergerge%$--sfsdfgfg\"\n",
        "s3.upper()\n",
        "print(s3.upper())"
      ],
      "execution_count": null,
      "outputs": [
        {
          "output_type": "stream",
          "name": "stdout",
          "text": [
            "WERGERGE%$--SFSDFGFG\n"
          ]
        }
      ]
    },
    {
      "cell_type": "code",
      "metadata": {
        "id": "4akwfO2NKmiL",
        "colab": {
          "base_uri": "https://localhost:8080/",
          "height": 35
        },
        "outputId": "159ebada-b297-4d93-979f-1bda2e87e036"
      },
      "source": [
        "h1['OBR'][0][4][0][0][0]"
      ],
      "execution_count": null,
      "outputs": [
        {
          "output_type": "execute_result",
          "data": {
            "application/vnd.google.colaboratory.intrinsic+json": {
              "type": "string"
            },
            "text/plain": [
              "'73610'"
            ]
          },
          "metadata": {},
          "execution_count": 43
        }
      ]
    },
    {
      "cell_type": "code",
      "metadata": {
        "colab": {
          "base_uri": "https://localhost:8080/",
          "height": 131
        },
        "id": "bUwejF1IDjMK",
        "outputId": "f375755b-bfab-4b9c-8599-7d399f4126ba"
      },
      "source": [
        "US->idsn,id2,id3"
      ],
      "execution_count": null,
      "outputs": [
        {
          "output_type": "error",
          "ename": "SyntaxError",
          "evalue": "ignored",
          "traceback": [
            "\u001b[0;36m  File \u001b[0;32m\"<ipython-input-8-0263e35c46e6>\"\u001b[0;36m, line \u001b[0;32m1\u001b[0m\n\u001b[0;31m    US->idsn,id2,id3\u001b[0m\n\u001b[0m       ^\u001b[0m\n\u001b[0;31mSyntaxError\u001b[0m\u001b[0;31m:\u001b[0m invalid syntax\n"
          ]
        }
      ]
    },
    {
      "cell_type": "code",
      "metadata": {
        "id": "iTzDetEsEfyR"
      },
      "source": [
        "omr1=open(\"/content/canceled-orm.txt\",\"r\");\n",
        "tx1=omr1.readlines()"
      ],
      "execution_count": null,
      "outputs": []
    },
    {
      "cell_type": "code",
      "metadata": {
        "id": "AMEnRuzQEf17"
      },
      "source": [
        "a = 0\n",
        "with open('/content/canceled-orm.txt','r') as f:  #cancelled orm message\n",
        "    for line in f:\n",
        "       if a == 0:\n",
        "           message = line+\"\\r\"\n",
        "           a = 1\n",
        "       else:\n",
        "           message += line+\"\\r\"\n",
        "       #print(message)    \n",
        "o1=hl7.parse(message)"
      ],
      "execution_count": null,
      "outputs": []
    },
    {
      "cell_type": "code",
      "metadata": {
        "id": "9rhtDcyC3lHW"
      },
      "source": [
        "a = 0\n",
        "with open('/content/edited-orm.txt','r') as f:  #edited orm message\n",
        "    for line in f:\n",
        "       if a == 0:\n",
        "           message = line+\"\\r\"\n",
        "           a = 1\n",
        "       else:\n",
        "           message += line+\"\\r\"\n",
        "       #print(message)    \n",
        "o2=hl7.parse(message)"
      ],
      "execution_count": null,
      "outputs": []
    },
    {
      "cell_type": "code",
      "metadata": {
        "id": "jzsA9vcq3lMT"
      },
      "source": [
        "a = 0\n",
        "with open('/content/new-register-orm.txt','r') as f:  #new-register orm message\n",
        "    for line in f:\n",
        "       if a == 0:\n",
        "           message = line+\"\\r\"\n",
        "           a = 1\n",
        "       else:\n",
        "           message += line+\"\\r\"\n",
        "       #print(message)    \n",
        "o3=hl7.parse(message)"
      ],
      "execution_count": null,
      "outputs": []
    },
    {
      "cell_type": "code",
      "metadata": {
        "id": "MUSmQpUg0GjM"
      },
      "source": [
        "m1='MSH|^~\\&|MESA_OP|XYZ_HOSPITAL|iFW|ABC_RADIOLOGY|||ORM^O01|101104|P|2.3||||||||\\r'\n",
        "m1+='PID|1||20891312^^^^EPI||APPLESEED^JOHN^A^^MR.^||19661201|M||AfrAm|505 S. HAMILTON AVE^^MADISON^WI^53505^US^^^DN |DN|(608)123-4567|(608)123-5678||S|| 11480003|123-45-7890||||^^^WI^^\\r'\n",
        "m1+='PD1|||FACILITY(EAST)^^12345|1173^MATTHEWS^JAMES^A^^^\\r'\n",
        "m1+='PV1|||^^^CARE HEALTH SYSTEMS^^^^^||| |1173^MATTHEWS^JAMES^A^^^||||||||||||610613||||||||||||||||||||||||||||||||V\\r'\n",
        "m1+='ORC|NW|987654^EPIC|76543^EPC||Final||^^^20140418170014^^^^||20140418173314|1148^PATTERSON^JAMES^^^^||1173^MATTHEWS^JAMES^A^^^|1133^^^222^^^^^|(618)222-1122||\\r'\n",
        "m1+='OBR|1|363463^EPC|1858^EPC|73610^US-ABDOMEN ANKLE 3+ VW^^^X-RAY ANKLE ||||||||||||1173^MATTHEWS^JAMES^A^^^|(608)258-8866||||||||Final||^^^20140418170014^^^^|||||6064^MANSFIELD^JEREMY^^^^||1148010^1A^EAST^X-RAY^^^|^|\\r'\n",
        "m1+='DG1||I10|S82^ANKLE FRACTURE^I10|ANKLE FRACTURE||\\r'\n",
        "\n",
        "m2='MSH|^~\\&|MESA_OP|XYZ_HOSPITAL|iFW|ABC_RADIOLOGY|||ORM^O01|101104|P|2.3||||||||\\r'\n",
        "m2+='PID|1||20891313^^^^EPI||APPLESEED^JOHN^A^^MR.^||19661201|M||AfrAm|505 S. HAMILTON AVE^^MADISON^WI^53505^US^^^DN |DN|(608)123-4567|(608)123-5678||S|| 11480003|123-45-7890||||^^^WI^^\\r'\n",
        "m2+='PD1|||FACILITY(EAST)^^12345|1173^MATTHEWS^JAMES^A^^^\\r'\n",
        "m2+='PV1|||^^^CARE HEALTH SYSTEMS^^^^^||| |1173^MATTHEWS^JAMES^A^^^||||||||||||610613||||||||||||||||||||||||||||||||V\\r'\n",
        "m2+='ORC|NW|987654^EPIC|76543^EPC||Final||^^^20140418170014^^^^||20140418173314|1148^PATTERSON^JAMES^^^^||1173^MATTHEWS^JAMES^A^^^|1133^^^222^^^^^|(618)222-1122||\\r'\n",
        "m2+='OBR|1|363463^EPC|1858^EPC|73611^Ultrasonography of limb ANKLE 3+ VW^^^X-RAY ANKLE ||||||||||||1173^MATTHEWS^JAMES^A^^^|(608)258-8866||||||||Final||^^^20140418170014^^^^|||||6064^MANSFIELD^JEREMY^^^^||1148010^1A^EAST^X-RAY^^^|^|\\r'\n",
        "m2+='DG1||I10|S82^ANKLE FRACTURE^I10|ANKLE FRACTURE||\\r'\n",
        "\n",
        "m3='MSH|^~\\&|MESA_OP|XYZ_HOSPITAL|iFW|ABC_RADIOLOGY|||ORM^O01|101104|P|2.3||||||||\\r'\n",
        "m3+='PID|1||20891314^^^^EPI||APPLESEED^JOHN^A^^MR.^||19661201|M||AfrAm|505 S. HAMILTON AVE^^MADISON^WI^53505^US^^^DN |DN|(608)123-4567|(608)123-5678||S|| 11480003|123-45-7890||||^^^WI^^\\r'\n",
        "m3+='PD1|||FACILITY(EAST)^^12345|1173^MATTHEWS^JAMES^A^^^\\r'\n",
        "m3+='PV1|||^^^CARE HEALTH SYSTEMS^^^^^||| |1173^MATTHEWS^JAMES^A^^^||||||||||||610613||||||||||||||||||||||||||||||||V\\r'\n",
        "m3+='ORC|NW|987654^EPIC|76543^EPC||Final||^^^20140418170014^^^^||20140418173314|1148^PATTERSON^JAMES^^^^||1173^MATTHEWS^JAMES^A^^^|1133^^^222^^^^^|(618)222-1122||\\r'\n",
        "m3+='OBR|1|363463^EPC|1858^EPC|72612^Ultrasonography of finger ANKLE 3+ VW^^^X-RAY ANKLE ||||||||||||1173^MATTHEWS^JAMES^A^^^|(608)258-8866||||||||Final||^^^20140418170014^^^^|||||6064^MANSFIELD^JEREMY^^^^||1148010^1A^EAST^X-RAY^^^|^|\\r'\n",
        "m3+='DG1||I10|S82^ANKLE FRACTURE^I10|ANKLE FRACTURE||\\r'\n",
        "\n",
        "m4='MSH|^~\\&|MESA_OP|XYZ_HOSPITAL|iFW|ABC_RADIOLOGY|||ORM^O01|101104|P|2.3||||||||\\r'\n",
        "m4+='PID|1||20891315^^^^EPI||APPLESEED^JOHN^A^^MR.^||19661201|F||AfrAm|505 S. HAMILTON AVE^^MADISON^WI^53505^US^^^DN |DN|(608)123-4567|(608)123-5678||S|| 11480003|123-45-7890||||^^^WI^^\\r'\n",
        "m4+='PD1|||FACILITY(EAST)^^12345|1173^MATTHEWS^JAMES^A^^^\\r'\n",
        "m4+='PV1|||^^^CARE HEALTH SYSTEMS^^^^^||| |1173^MATTHEWS^JAMES^A^^^||||||||||||610613||||||||||||||||||||||||||||||||V\\r'\n",
        "m4+='ORC|NW|987654^EPIC|76543^EPC||Final||^^^20140418170014^^^^||20140418173314|1148^PATTERSON^JAMES^^^^||1173^MATTHEWS^JAMES^A^^^|1133^^^222^^^^^|(618)222-1122||\\r'\n",
        "m4+='OBR|1|363463^EPC|1858^EPC|73113^Ultrasound skull scan 3+ VW^^^X-RAY ANKLE ||||||||||||1173^MATTHEWS^JAMES^A^^^|(608)258-8866||||||||Final||^^^20140418170014^^^^|||||6064^MANSFIELD^JEREMY^^^^||1148010^1A^EAST^X-RAY^^^|^|\\r'\n",
        "m4+='DG1||I10|S82^ANKLE FRACTURE^I10|ANKLE FRACTURE||\\r'\n",
        "\n",
        "m5='MSH|^~\\&|MESA_OP|XYZ_HOSPITAL|iFW|ABC_RADIOLOGY|||ORM^O01|101104|P|2.3||||||||\\r'\n",
        "m5+='PID|1||20891416^^^^EPI||APPLESEED^JOHN^A^^MR.^||19661201|F||AfrAm|505 S. HAMILTON AVE^^MADISON^WI^53505^US^^^DN |DN|(608)123-4567|(608)123-5678||S|| 11480003|123-45-7890||||^^^WI^^\\r'\n",
        "m5+='PD1|||FACILITY(EAST)^^12345|1173^MATTHEWS^JAMES^A^^^\\r'\n",
        "m5+='PV1|||^^^CARE HEALTH SYSTEMS^^^^^||| |1173^MATTHEWS^JAMES^A^^^||||||||||||610613||||||||||||||||||||||||||||||||V\\r'\n",
        "m5+='ORC|NW|987654^EPIC|76543^EPC||Final||^^^20140418170014^^^^||20140418173314|1148^PATTERSON^JAMES^^^^||1173^MATTHEWS^JAMES^A^^^|1133^^^222^^^^^|(618)222-1122||\\r'\n",
        "m5+='OBR|1|363463^EPC|1858^EPC|71614^US-ABDOMEN ANKLE 3+ VW^^^X-RAY ANKLE |U|||||||||||1173^MATTHEWS^JAMES^A^^^|(608)258-8866||Y||||||Final||^^^20140418170014^^^^|||||6064^MANSFIELD^JEREMY^^^^||1148010^1A^EAST^X-RAY^^^|^|\\r'\n",
        "m5+='DG1||I10|S82^ANKLE FRACTURE^I10|ANKLE FRACTURE||\\r'\n",
        "\n",
        "m6='MSH|^~\\&|MESA_OP|XYZ_HOSPITAL|iFW|ABC_RADIOLOGY|||ORM^O01|101104|P|2.3||||||||\\r'\n",
        "m6+='PID|1||20891317^^^^EPI||APPLESEED^JOHN^A^^MR.^||19661201|F||AfrAm|505 S. HAMILTON AVE^^MADISON^WI^53505^US^^^DN |DN|(608)123-4567|(608)123-5678||S|| 11480003|123-45-7890||||^^^WI^^\\r'\n",
        "m6+='PD1|||FACILITY(EAST)^^12345|1173^MATTHEWS^JAMES^A^^^\\r'\n",
        "m6+='PV1|||^^^CARE HEALTH SYSTEMS^^^^^||| |1173^MATTHEWS^JAMES^A^^^||||||||||||610613||||||||||||||||||||||||||||||||V\\r'\n",
        "m6+='ORC|NW|987654^EPIC|76543^EPC||Final||^^^20140418170014^^^^||20140418173314|1148^PATTERSON^JAMES^^^^||1173^MATTHEWS^JAMES^A^^^|1133^^^222^^^^^|(618)222-1122||\\r'\n",
        "m6+='OBR|1|363463^EPC|1858^EPC|75615^X-RAY ANKLE 3+ VW^^^X-RAY ANKLE |U|||||||||||1173^MATTHEWS^JAMES^A^^^|(608)258-8866||Y||||||Final||^^^20140418170014^^^^|||||6064^MANSFIELD^JEREMY^^^^||1148010^1A^EAST^X-RAY^^^|^|\\r'\n",
        "m6+='DG1||I10|S82^ANKLE FRACTURE^I10|ANKLE FRACTURE||\\r'\n",
        "\n",
        "m7='MSH|^~\\&|MESA_OP|XYZ_HOSPITAL|iFW|ABC_RADIOLOGY|||ORM^O01|101104|P|2.3||||||||\\r'\n",
        "m7+='PID|1||20891318^^^^EPI||APPLESEED^JOHN^A^^MR.^||19661201|F||AfrAm|505 S. HAMILTON AVE^^MADISON^WI^53505^US^^^DN |DN|(608)123-4567|(608)123-5678||S|| 11480003|123-45-7890||||^^^WI^^\\r'\n",
        "m7+='PD1|||FACILITY(EAST)^^12345|1173^MATTHEWS^JAMES^A^^^\\r'\n",
        "m7+='PV1|||^^^CARE HEALTH SYSTEMS^^^^^||| |1173^MATTHEWS^JAMES^A^^^||||||||||||610613||||||||||||||||||||||||||||||||V\\r'\n",
        "m7+='ORC|NW|987654^EPIC|76543^EPC||Final||^^^20140418170014^^^^||20140418173314|1148^PATTERSON^JAMES^^^^||1173^MATTHEWS^JAMES^A^^^|1133^^^222^^^^^|(618)222-1122||\\r'\n",
        "m7+='OBR|1|363463^EPC|1858^EPC|73616^X-RAY ANKLE 3+ VW^^^X-RAY ANKLE |R|||||||||||1173^MATTHEWS^JAMES^A^^^|(608)258-8866||Y||||||Final||^^^20140418170014^^^^|||||6064^MANSFIELD^JEREMY^^^^||1148010^1A^EAST^X-RAY^^^|^|\\r'\n",
        "m7+='DG1||I10|S82^ANKLE FRACTURE^I10|ANKLE FRACTURE||\\r'\n",
        "\n",
        "m8='MSH|^~\\&|MESA_OP|XYZ_HOSPITAL|iFW|ABC_RADIOLOGY|||ORM^O01|101104|P|2.3||||||||\\r'\n",
        "m8+='PID|1||20891319^^^^EPI||APPLESEED^JOHN^A^^MR.^||19661201|F||AfrAm|505 S. HAMILTON AVE^^MADISON^WI^53505^US^^^DN |DN|(608)123-4567|(608)123-5678||S|| 11480003|123-45-7890||||^^^WI^^\\r'\n",
        "m8+='PD1|||FACILITY(EAST)^^12345|1173^MATTHEWS^JAMES^A^^^\\r'\n",
        "m8+='PV1|||^^^CARE HEALTH SYSTEMS^^^^^||| |1173^MATTHEWS^JAMES^A^^^||||||||||||610613||||||||||||||||||||||||||||||||V\\r'\n",
        "m8+='ORC|NW|987654^EPIC|76543^EPC||Final||^^^20140418170014^^^^||20140418173314|1148^PATTERSON^JAMES^^^^||1173^MATTHEWS^JAMES^A^^^|1133^^^222^^^^^|(618)222-1122||\\r'\n",
        "m8+='OBR|1|363463^EPC|1858^EPC|73617^US-ABDOMEN ANKLE 3+ VW^^^X-RAY ANKLE |R|||||||||||1173^MATTHEWS^JAMES^A^^^|(608)258-8866||Y||||||Final||^^^20140418170014^^^^|||||6064^MANSFIELD^JEREMY^^^^||1148010^1A^EAST^X-RAY^^^|^|\\r'\n",
        "m8+='DG1||I10|S82^ANKLE FRACTURE^I10|ANKLE FRACTURE||\\r'\n",
        "\n",
        "m9='MSH|^~\\&|MESA_OP|XYZ_HOSPITAL|iFW|ABC_RADIOLOGY|||ORM^O01|101104|P|2.3||||||||\\r'\n",
        "m9+='PID|1||20891412^^^^EPI||APPLESEED^JOHN^A^^MR.^||19661201|F||AfrAm|505 S. HAMILTON AVE^^MADISON^WI^53505^US^^^DN |DN|(608)123-4567|(608)123-5678||S|| 11480003|123-45-7890||||^^^WI^^\\r'\n",
        "m9+='PD1|||FACILITY(EAST)^^12345|1173^MATTHEWS^JAMES^A^^^\\r'\n",
        "m9+='PV1|||^^^CARE HEALTH SYSTEMS^^^^^||| |1173^MATTHEWS^JAMES^A^^^||||||||||||610613||||||||||||||||||||||||||||||||V\\r'\n",
        "m9+='ORC|NW|987654^EPIC|76543^EPC||Final||^^^20140418170014^^^^||20140418173314|1148^PATTERSON^JAMES^^^^||1173^MATTHEWS^JAMES^A^^^|1133^^^222^^^^^|(618)222-1122||\\r'\n",
        "m9+='OBR|1|363463^EPC|1858^EPC|73618^US-ABDOMEN ANKLE 3+ VW^^^X-RAY ANKLE |T|||||||||||1173^MATTHEWS^JAMES^A^^^|(608)258-8866||Y||||||Final||^^^20140418170014^^^^|||||6064^MANSFIELD^JEREMY^^^^||1148010^1A^EAST^X-RAY^^^|^|\\r'\n",
        "m9+='DG1||I10|S82^ANKLE FRACTURE^I10|ANKLE FRACTURE||\\r'\n",
        "\n",
        "m10='MSH|^~\\&|MESA_OP|XYZ_HOSPITAL|iFW|ABC_RADIOLOGY|||ORM^O01|101104|P|2.3||||||||\\r'\n",
        "m10+='PID|1||20891345^^^^EPI||APPLESEED^JOHN^A^^MR.^||19661201|F||AfrAm|505 S. HAMILTON AVE^^MADISON^WI^53505^US^^^DN |DN|(608)123-4567|(608)123-5678||S|| 11480003|123-45-7890||||^^^WI^^\\r'\n",
        "m10+='PD1|||FACILITY(EAST)^^12345|1173^MATTHEWS^JAMES^A^^^\\r'\n",
        "m10+='PV1|||^^^CARE HEALTH SYSTEMS^^^^^||| |1173^MATTHEWS^JAMES^A^^^||||||||||||610613||||||||||||||||||||||||||||||||V\\r'\n",
        "m10+='ORC|NW|987654^EPIC|76543^EPC||Final||^^^20140418170014^^^^||20140418173314|1148^PATTERSON^JAMES^^^^||1173^MATTHEWS^JAMES^A^^^|1133^^^222^^^^^|(618)222-1122||\\r'\n",
        "m10+='OBR|1|363463^EPC|1858^EPC|73619^US-ABDOMEN ANKLE 3+ VW^^^X-RAY ANKLE |T|||||||||||1173^MATTHEWS^JAMES^A^^^|(608)258-8866||Y||||||Final||^^^20140418170014^^^^|||||6064^MANSFIELD^JEREMY^^^^||1148010^1A^EAST^X-RAY^^^|^|\\r'\n",
        "m10+='DG1||I10|S82^ANKLE FRACTURE^I10|ANKLE FRACTURE||\\r'\n"
      ],
      "execution_count": null,
      "outputs": []
    },
    {
      "cell_type": "code",
      "metadata": {
        "id": "rRPGueG9BNKO"
      },
      "source": [
        "import hl7\n",
        "h1=hl7.parse(m1)\n",
        "h2=hl7.parse(m2)\n",
        "h3=hl7.parse(m3)\n",
        "h4=hl7.parse(m4)\n",
        "h5=hl7.parse(m5)\n",
        "h6=hl7.parse(m6)\n",
        "h7=hl7.parse(m7)\n",
        "h8=hl7.parse(m8)\n",
        "h9=hl7.parse(m9)\n",
        "h10=hl7.parse(m10)\n"
      ],
      "execution_count": null,
      "outputs": []
    },
    {
      "cell_type": "code",
      "metadata": {
        "id": "hCqbZWpTKtST"
      },
      "source": [
        "o1['OBR'][0][4][0][1]"
      ],
      "execution_count": null,
      "outputs": []
    },
    {
      "cell_type": "code",
      "metadata": {
        "id": "R6P7TXoGsGgQ"
      },
      "source": [
        "messages=[h1,h2,h3,h4,h5,h6,h7,h8,h9,h10]"
      ],
      "execution_count": null,
      "outputs": []
    },
    {
      "cell_type": "code",
      "metadata": {
        "colab": {
          "base_uri": "https://localhost:8080/"
        },
        "id": "cB9GLg9spjUx",
        "outputId": "d1e249f9-42ee-4fe1-bd66-9c29e86f0502"
      },
      "source": [
        "for m in messages:\n",
        "   code=str(m['OBR'][0][4][0][0])   \n",
        "   if(pCode.get(code)) or re.search(\"US-ABDOMEN\",message['OBR'][0][4][0][1][0]):\n",
        "     print(m['OBR'][0][4][0])\n"
      ],
      "execution_count": null,
      "outputs": [
        {
          "output_type": "stream",
          "name": "stdout",
          "text": [
            "73610^US-ABDOMEN ANKLE 3+ VW^^^X-RAY ANKLE \n",
            "73611^Ultrasonography of limb ANKLE 3+ VW^^^X-RAY ANKLE \n",
            "72612^Ultrasonography of finger ANKLE 3+ VW^^^X-RAY ANKLE \n",
            "73113^Ultrasound skull scan 3+ VW^^^X-RAY ANKLE \n",
            "71614^US-ABDOMEN ANKLE 3+ VW^^^X-RAY ANKLE \n",
            "75615^X-RAY ANKLE 3+ VW^^^X-RAY ANKLE \n",
            "73616^X-RAY ANKLE 3+ VW^^^X-RAY ANKLE \n",
            "73617^US-ABDOMEN ANKLE 3+ VW^^^X-RAY ANKLE \n",
            "73618^US-ABDOMEN ANKLE 3+ VW^^^X-RAY ANKLE \n",
            "73619^US-ABDOMEN ANKLE 3+ VW^^^X-RAY ANKLE \n"
          ]
        }
      ]
    },
    {
      "cell_type": "code",
      "metadata": {
        "colab": {
          "base_uri": "https://localhost:8080/",
          "height": 35
        },
        "id": "J9obA6IXpI0S",
        "outputId": "81b4b407-02a8-4621-a1b9-e975dbde5b62"
      },
      "source": [
        "messages[5]['OBR'][0][4][0][0][0]"
      ],
      "execution_count": null,
      "outputs": [
        {
          "output_type": "execute_result",
          "data": {
            "application/vnd.google.colaboratory.intrinsic+json": {
              "type": "string"
            },
            "text/plain": [
              "'75615'"
            ]
          },
          "metadata": {},
          "execution_count": 49
        }
      ]
    },
    {
      "cell_type": "code",
      "metadata": {
        "colab": {
          "base_uri": "https://localhost:8080/",
          "height": 53
        },
        "id": "tsTpBwX9qEFy",
        "outputId": "c292b085-38c7-45a8-cf75-73fa300f533a"
      },
      "source": [
        "pCode={\n",
        "    '73610':'US-ABDOMEN',\n",
        "'73611':'Ultrasonography of limb',\n",
        "'72612':'Ultrasonography of finger',\n",
        "'73113':'Ultrasound skull scan'\n",
        "}\n",
        "\n",
        "# ke=str(h1['OBR'][0][4][0][0])\n",
        "# print(ke)\n",
        "# pCode.get(ke)"
      ],
      "execution_count": null,
      "outputs": [
        {
          "output_type": "stream",
          "name": "stdout",
          "text": [
            "73610\n"
          ]
        },
        {
          "output_type": "execute_result",
          "data": {
            "application/vnd.google.colaboratory.intrinsic+json": {
              "type": "string"
            },
            "text/plain": [
              "'US-ABDOMEN'"
            ]
          },
          "metadata": {},
          "execution_count": 112
        }
      ]
    },
    {
      "cell_type": "code",
      "metadata": {
        "id": "SpHZnuWyBy5N"
      },
      "source": [
        "h2['OBR'][0][2]"
      ],
      "execution_count": null,
      "outputs": []
    },
    {
      "cell_type": "code",
      "metadata": {
        "id": "-rc5PP7Wjhqc"
      },
      "source": [
        "o1['OBR'][0][4][0][1][0]   #description"
      ],
      "execution_count": null,
      "outputs": []
    },
    {
      "cell_type": "code",
      "metadata": {
        "id": "mewJsva8xE-q"
      },
      "source": [
        "o1['PID'][0][3][0][0][0]    #PID"
      ],
      "execution_count": null,
      "outputs": []
    },
    {
      "cell_type": "code",
      "metadata": {
        "id": "v3bR-BJoyS6u"
      },
      "source": [
        "o1['PID'][0][8][0]       #GENDER"
      ],
      "execution_count": null,
      "outputs": []
    },
    {
      "cell_type": "code",
      "metadata": {
        "id": "zQRV7FoFB-d6"
      },
      "source": [
        "o1['OBR'][0][19][0]        #PREGNANT"
      ],
      "execution_count": null,
      "outputs": []
    },
    {
      "cell_type": "code",
      "metadata": {
        "id": "8mJ4wS-L5BLE"
      },
      "source": [
        "h7['OBR'][0][5]             #u,r,t"
      ],
      "execution_count": null,
      "outputs": []
    },
    {
      "cell_type": "code",
      "metadata": {
        "colab": {
          "base_uri": "https://localhost:8080/"
        },
        "id": "f0fgYUA_5iOp",
        "outputId": "6956b8b3-02bf-481b-d0fa-a38a93135e43"
      },
      "source": [
        "\n",
        "for message in messages:\n",
        "  if message['PID'][0][8][0]=='F':\n",
        "    print(\"Female -\"+message['PID'][0][3][0][0][0])\n",
        "  elif message['PID'][0][8][0]=='M':\n",
        "    print(\"Male -\"+message['PID'][0][3][0][0][0])  "
      ],
      "execution_count": null,
      "outputs": [
        {
          "output_type": "stream",
          "name": "stdout",
          "text": [
            "Male -20891312\n",
            "Male -20891313\n",
            "Male -20891314\n",
            "Female -20891315\n",
            "Female -20891416\n",
            "Female -20891317\n",
            "Female -20891318\n",
            "Female -20891319\n",
            "Female -20891412\n",
            "Female -20891345\n"
          ]
        }
      ]
    },
    {
      "cell_type": "code",
      "metadata": {
        "colab": {
          "base_uri": "https://localhost:8080/"
        },
        "id": "mVr1Jl3A5ioG",
        "outputId": "ef57edf5-fedc-4b3b-f333-209131b1e504"
      },
      "source": [
        "print(\"All pregnant paitent:-\\n\")\n",
        "for message in messages:\n",
        "  if  message['PID'][0][8][0]=='F' and message['OBR'][0][19][0]=='Y':\n",
        "    print(\"PID- \"+message['PID'][0][3][0][0][0])"
      ],
      "execution_count": null,
      "outputs": [
        {
          "output_type": "stream",
          "name": "stdout",
          "text": [
            "All pregnant paitent:-\n",
            "\n",
            "PID- 20891416\n",
            "PID- 20891317\n",
            "PID- 20891318\n",
            "PID- 20891319\n",
            "PID- 20891412\n",
            "PID- 20891345\n"
          ]
        }
      ]
    },
    {
      "cell_type": "code",
      "metadata": {
        "colab": {
          "base_uri": "https://localhost:8080/"
        },
        "id": "5u7xAIwM5i0I",
        "outputId": "8de75ce0-ee78-47cf-fdd4-a882dd8062b3"
      },
      "source": [
        "for message in messages:\n",
        "  if message['OBR'][0][19][0]=='Y':\n",
        "    if message['OBR'][0][5][0]=='U':\n",
        "      print(\"Urgent- \"+message['PID'][0][3][0][0][0])\n",
        "    elif message['OBR'][0][5][0]=='R':\n",
        "      print(\"Rutine- \"+message['PID'][0][3][0][0][0])\n",
        "    elif message['OBR'][0][5][0]=='T':\n",
        "      print(\"Trimster- \"+message['PID'][0][3][0][0][0])\n",
        "        "
      ],
      "execution_count": null,
      "outputs": [
        {
          "output_type": "stream",
          "name": "stdout",
          "text": [
            "Urgent- 20891416\n",
            "Urgent- 20891317\n",
            "Rutine- 20891318\n",
            "Rutine- 20891319\n",
            "Trimster- 20891412\n",
            "Trimster- 20891345\n"
          ]
        }
      ]
    },
    {
      "cell_type": "code",
      "metadata": {
        "id": "PLm3Ra4_KhzQ",
        "colab": {
          "base_uri": "https://localhost:8080/"
        },
        "outputId": "169c2365-4a93-4d77-ddfc-a43fdbf3c69b"
      },
      "source": [
        "import re\n",
        "s1=\"i am krishna kumar\"\n",
        "s2=\"krishna\"\n",
        "if re.search(s2,s1):\n",
        "  print(\"yes\")"
      ],
      "execution_count": null,
      "outputs": [
        {
          "output_type": "stream",
          "name": "stdout",
          "text": [
            "yes\n"
          ]
        }
      ]
    },
    {
      "cell_type": "code",
      "metadata": {
        "id": "FtJgpnH15i6J",
        "colab": {
          "base_uri": "https://localhost:8080/"
        },
        "outputId": "4c32dbe5-e238-4bbf-eada-c72f79ffca52"
      },
      "source": [
        "for message in messages:\n",
        "  if message['OBR'][0][19][0]=='Y' and re.search(\"US-ABDOMEN\",message['OBR'][0][4][0][1][0]):\n",
        "    print(message['PID'][0][3][0][0][0])"
      ],
      "execution_count": null,
      "outputs": [
        {
          "output_type": "stream",
          "name": "stdout",
          "text": [
            "20891416\n",
            "20891319\n",
            "20891412\n",
            "20891345\n"
          ]
        }
      ]
    },
    {
      "cell_type": "code",
      "metadata": {
        "id": "-DAPSZOF5jAg"
      },
      "source": [
        ""
      ],
      "execution_count": null,
      "outputs": []
    },
    {
      "cell_type": "code",
      "metadata": {
        "id": "pLprpuP25jDU"
      },
      "source": [
        ""
      ],
      "execution_count": null,
      "outputs": []
    },
    {
      "cell_type": "code",
      "metadata": {
        "id": "tnc_ILDlCPa4"
      },
      "source": [
        "# from hl7apy import parser\n",
        "# from hl7apy.exceptions import UnsupportedVersion\n",
        " \n",
        "# hl7 = open('/content/canceled-orm.txt', 'r').read()\n",
        " \n",
        "# try:\n",
        "#  m = parser.parse_message(hl7)\n",
        "# except UnsupportedVersion:\n",
        "#  print(err)"
      ],
      "execution_count": null,
      "outputs": []
    },
    {
      "cell_type": "code",
      "metadata": {
        "colab": {
          "base_uri": "https://localhost:8080/",
          "height": 35
        },
        "id": "NwF_0Q3XETya",
        "outputId": "876dafe5-4873-4c42-8edd-5c0932ec2b4b"
      },
      "source": [
        "m.obr.value"
      ],
      "execution_count": null,
      "outputs": [
        {
          "output_type": "execute_result",
          "data": {
            "application/vnd.google.colaboratory.intrinsic+json": {
              "type": "string"
            },
            "text/plain": [
              "'OBR'"
            ]
          },
          "metadata": {},
          "execution_count": 35
        }
      ]
    },
    {
      "cell_type": "code",
      "metadata": {
        "colab": {
          "base_uri": "https://localhost:8080/"
        },
        "id": "fClE7V4PEqNE",
        "outputId": "1c144c3f-047a-4703-b682-12bafa055c40"
      },
      "source": [
        "m.msh"
      ],
      "execution_count": null,
      "outputs": [
        {
          "output_type": "execute_result",
          "data": {
            "text/plain": [
              "[<Segment MSH>]"
            ]
          },
          "metadata": {},
          "execution_count": 17
        }
      ]
    },
    {
      "cell_type": "code",
      "metadata": {
        "id": "OLWPKWD4Ex0_"
      },
      "source": [
        "m.msh.msh_9.msh_9_3.value"
      ],
      "execution_count": null,
      "outputs": []
    },
    {
      "cell_type": "code",
      "metadata": {
        "colab": {
          "base_uri": "https://localhost:8080/",
          "height": 35
        },
        "id": "pWFHBc1VFLn6",
        "outputId": "344d818d-272c-44cd-a9b1-634c9e0f187f"
      },
      "source": [
        "m.obr.value"
      ],
      "execution_count": null,
      "outputs": [
        {
          "output_type": "execute_result",
          "data": {
            "application/vnd.google.colaboratory.intrinsic+json": {
              "type": "string"
            },
            "text/plain": [
              "'OBR'"
            ]
          },
          "metadata": {},
          "execution_count": 22
        }
      ]
    },
    {
      "cell_type": "code",
      "metadata": {
        "id": "j-Pc9OXFFntW"
      },
      "source": [
        "h[2]"
      ],
      "execution_count": null,
      "outputs": []
    },
    {
      "cell_type": "code",
      "metadata": {
        "id": "QBM1_KsdGvfC",
        "colab": {
          "base_uri": "https://localhost:8080/",
          "height": 131
        },
        "outputId": "5ceceeef-3a80-4e03-9803-a2dd59857aa1"
      },
      "source": [
        "jupyter nbconvert --execute --to pdf notebook.ipynb"
      ],
      "execution_count": 3,
      "outputs": [
        {
          "output_type": "error",
          "ename": "SyntaxError",
          "evalue": "ignored",
          "traceback": [
            "\u001b[0;36m  File \u001b[0;32m\"<ipython-input-3-b42257878741>\"\u001b[0;36m, line \u001b[0;32m1\u001b[0m\n\u001b[0;31m    jupyter nbconvert --execute --to pdf notebook.ipynb\u001b[0m\n\u001b[0m                    ^\u001b[0m\n\u001b[0;31mSyntaxError\u001b[0m\u001b[0;31m:\u001b[0m invalid syntax\n"
          ]
        }
      ]
    },
    {
      "cell_type": "code",
      "metadata": {
        "id": "AxjAUXXiFBKQ"
      },
      "source": [
        ""
      ],
      "execution_count": null,
      "outputs": []
    }
  ]
}